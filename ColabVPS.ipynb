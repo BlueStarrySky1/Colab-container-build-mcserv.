{
  "nbformat": 4,
  "nbformat_minor": 0,
  "metadata": {
    "colab": {
      "name": "ColabVPS.ipynb",
      "provenance": [],
      "collapsed_sections": [
        "n0rLoVvEgpxE"
      ],
      "include_colab_link": true
    },
    "kernelspec": {
      "name": "python3",
      "display_name": "Python 3"
    },
    "language_info": {
      "name": "python"
    }
  },
  "cells": [
    {
      "cell_type": "markdown",
      "metadata": {
        "id": "view-in-github",
        "colab_type": "text"
      },
      "source": [
        "<a href=\"https://colab.research.google.com/github/BlueStarrySky1/Colab-container-build-mcserv./blob/main/ColabVPS.ipynb\" target=\"_parent\"><img src=\"https://colab.research.google.com/assets/colab-badge.svg\" alt=\"Open In Colab\"/></a>"
      ]
    },
    {
      "cell_type": "markdown",
      "metadata": {
        "id": "5KzK2idfgaJ8"
      },
      "source": [
        "# **ColabVPS 搭建MC服务器**"
      ]
    },
    {
      "cell_type": "markdown",
      "metadata": {
        "id": "YWj_EscQq7aY"
      },
      "source": [
        "获取网站"
      ]
    },
    {
      "cell_type": "code",
      "metadata": {
        "colab": {
          "base_uri": "https://localhost:8080/",
          "height": 34
        },
        "id": "GGuATOkfq2qq",
        "outputId": "814ed068-b395-4e3a-a242-4512de34e5cc"
      },
      "source": [
        "from google.colab.output import eval_js\n",
        "print(eval_js(\"google.colab.kernel.proxyPort(8000)\"))"
      ],
      "execution_count": null,
      "outputs": [
        {
          "output_type": "stream",
          "name": "stdout",
          "text": [
            "https://8bfjaow1szd-496ff2e9c6d22116-8000-colab.googleusercontent.com/\n"
          ]
        }
      ]
    },
    {
      "cell_type": "markdown",
      "metadata": {
        "id": "N5TMEdpksBrX"
      },
      "source": [
        "写文件(Minecraft)"
      ]
    },
    {
      "cell_type": "code",
      "metadata": {
        "colab": {
          "base_uri": "https://localhost:8080/"
        },
        "id": "gV_6CJzTsFNB",
        "outputId": "adac533e-8c0d-4fcb-de8d-29d59a88378b"
      },
      "source": [
        "%%writefile server.sh\n",
        "wget https://papermc.io/api/v2/projects/paper/versions/1.16.5/builds/651/downloads/paper-1.16.5-651.jar\n",
        "#update by changing this link above\n",
        "apt install openjdk-8\n",
        "java -jar paper-1.16.5-651.jar "
      ],
      "execution_count": null,
      "outputs": [
        {
          "output_type": "stream",
          "name": "stdout",
          "text": [
            "Writing server.sh\n"
          ]
        }
      ]
    },
    {
      "cell_type": "code",
      "metadata": {
        "colab": {
          "base_uri": "https://localhost:8080/"
        },
        "id": "p4SCmrDmdP9Z",
        "outputId": "3c608442-7b9e-4c01-bfe5-446e4e79fa1e"
      },
      "source": [
        "%%writefile server1.sh\n",
        "java -jar paper-1.16.5-651.jar "
      ],
      "execution_count": null,
      "outputs": [
        {
          "output_type": "stream",
          "name": "stdout",
          "text": [
            "Writing server1.sh\n"
          ]
        }
      ]
    },
    {
      "cell_type": "markdown",
      "metadata": {
        "id": "C0xgV89UfWov"
      },
      "source": [
        "写文件（网站，没用[bushi）"
      ]
    },
    {
      "cell_type": "code",
      "metadata": {
        "colab": {
          "base_uri": "https://localhost:8080/"
        },
        "id": "NYXE5L44fbgG",
        "outputId": "ddfdb510-f31f-4a5d-dbd3-3fbd13edaf7a"
      },
      "source": [
        "%%writefile index.html\n",
        "<!DOCTYPE html>\n",
        "<html><head>\n",
        "  <title>My First MC Server[Powered by ColabVPS]</title>\n",
        "</head><body>\n",
        "  <h1>Welcome to My First MC Server Website</h1>\n",
        "  <p>QQ:blablabla</p>\n",
        "  <p color=blue>MC Server:xxxxxxx-xxxxxxxxxxxxx-colab.googleusercontent.com</p>\n",
        "</body></html>"
      ],
      "execution_count": null,
      "outputs": [
        {
          "output_type": "stream",
          "name": "stdout",
          "text": [
            "Writing index.html\n"
          ]
        }
      ]
    },
    {
      "cell_type": "markdown",
      "metadata": {
        "id": "v_ZGWhgJrv59"
      },
      "source": [
        "Python开启HTTP服务器（没有用[bushi）"
      ]
    },
    {
      "cell_type": "code",
      "metadata": {
        "colab": {
          "base_uri": "https://localhost:8080/"
        },
        "id": "vRchrl1vr1Vk",
        "outputId": "f991f95b-78e8-4557-d570-8955289c38d0"
      },
      "source": [
        "!python -m http.server 8000"
      ],
      "execution_count": null,
      "outputs": [
        {
          "output_type": "stream",
          "name": "stdout",
          "text": [
            "Serving HTTP on 0.0.0.0 port 8000 (http://0.0.0.0:8000/) ...\n",
            "127.0.0.1 - - [03/Jun/2022 09:10:23] \"GET / HTTP/1.1\" 200 -\n",
            "127.0.0.1 - - [03/Jun/2022 09:10:24] code 404, message File not found\n",
            "127.0.0.1 - - [03/Jun/2022 09:10:24] \"GET /favicon.ico HTTP/1.1\" 404 -\n",
            "\n",
            "Keyboard interrupt received, exiting.\n"
          ]
        }
      ]
    },
    {
      "cell_type": "markdown",
      "metadata": {
        "id": "x4-vjORKuF2f"
      },
      "source": [
        "第一次开启"
      ]
    },
    {
      "cell_type": "code",
      "metadata": {
        "colab": {
          "base_uri": "https://localhost:8080/"
        },
        "id": "I3H0UksZtpNN",
        "outputId": "d8c5083c-8f34-4442-d26b-4e5aa3fa6bc3"
      },
      "source": [
        "!bash server.sh  \n",
        "\n"
      ],
      "execution_count": 1,
      "outputs": [
        {
          "output_type": "stream",
          "name": "stdout",
          "text": [
            "bash: server.sh: No such file or directory\n"
          ]
        }
      ]
    },
    {
      "cell_type": "markdown",
      "metadata": {
        "id": "o0vEy4_2e3b8"
      },
      "source": [
        "之后开启的脚本"
      ]
    },
    {
      "cell_type": "code",
      "metadata": {
        "colab": {
          "base_uri": "https://localhost:8080/"
        },
        "id": "oCPsXmBGe2et",
        "outputId": "12074127-d092-443a-989d-f08b8afecd6f"
      },
      "source": [
        "!bash server1.sh  \n",
        "#if u cant see what u r typing, use devtools to change the input box into text mode"
      ],
      "execution_count": null,
      "outputs": [
        {
          "output_type": "stream",
          "name": "stdout",
          "text": [
            "*** Warning, you've not updated in a while! ***\n",
            "*** Please download a new build as per instructions from https://papermc.io/downloads ***\n",
            "System Info: Java 11 (OpenJDK 64-Bit Server VM 11.0.15+10-Ubuntu-0ubuntu0.18.04.1) Host: Linux 5.4.188+ (amd64)\n",
            "Loading libraries, please wait...\n",
            "[09:16:22 INFO]: Environment: authHost='https://authserver.mojang.com', accountsHost='https://api.mojang.com', sessionHost='https://sessionserver.mojang.com', servicesHost='https://api.minecraftservices.com', name='PROD'\u001b[m\n",
            "[09:16:22 INFO]: Found new data pack file/bukkit, loading it automatically\u001b[m\n",
            "[09:16:22 INFO]: Reloading ResourceManager: Default, bukkit\u001b[m\n",
            "[09:16:23 INFO]: Loaded 7 recipes\u001b[m\n",
            "[09:16:25 INFO]: Starting minecraft server version 1.16.5\u001b[m\n",
            "[09:16:25 INFO]: Loading properties\u001b[m\n",
            "\u001b[K[09:16:25 INFO]: This server is running Paper version git-Paper-651 (MC: 1.16.5) (Implementing API version 1.16.5-R0.1-SNAPSHOT)\u001b[m\n",
            "\u001b[K[09:16:25 INFO]: Debug logging is disabled\u001b[m\n",
            "\u001b[K[09:16:25 INFO]: Server Ping Player Sample Count: 12\u001b[m\n",
            "\u001b[K[09:16:25 INFO]: Using 4 threads for Netty based IO\u001b[m\n",
            "\u001b[K[09:16:25 INFO]: Default game type: SURVIVAL\u001b[m\n",
            "\u001b[K[09:16:25 INFO]: Generating keypair\u001b[m\n",
            "\u001b[K[09:16:26 INFO]: Starting Minecraft server on *:25565\u001b[m\n",
            "\u001b[K[09:16:26 INFO]: Using epoll channel type\u001b[m\n",
            "\u001b[K[09:16:26 INFO]: Preparing level \"world\"\u001b[m\n",
            "\u001b[K\u001b[33;1m[09:16:33 WARN]: Unable to find spawn biome\u001b[m\n",
            "\u001b[K\u001b[33;1m[09:16:34 WARN]: Unable to find spawn biome\u001b[m\n",
            "\u001b[K[09:16:35 INFO]: Preparing start region for dimension minecraft:overworld\u001b[m\n",
            "\u001b[K[09:16:35 INFO]: Loaded 0 spawn chunks for world world\u001b[m\n",
            "\u001b[K[09:16:35 INFO]: Preparing spawn area: 0%\u001b[m\n",
            "\u001b[K[09:16:35 INFO]: Preparing spawn area: 0%\u001b[m\n",
            "\u001b[K[09:16:35 INFO]: Time elapsed: 534 ms\u001b[m\n",
            "\u001b[K[09:16:35 INFO]: Preparing start region for dimension minecraft:the_nether\u001b[m\n",
            "\u001b[K[09:16:36 INFO]: Loaded 0 spawn chunks for world world_nether\u001b[m\n",
            "\u001b[K[09:16:36 INFO]: Preparing spawn area: 0%\u001b[m\n",
            "\u001b[K[09:16:36 INFO]: Preparing spawn area: 0%\u001b[m\n",
            "\u001b[K[09:16:36 INFO]: Time elapsed: 989 ms\u001b[m\n",
            "\u001b[K[09:16:36 INFO]: Preparing start region for dimension minecraft:the_end\u001b[m\n",
            "\u001b[K[09:16:40 INFO]: Loaded 0 spawn chunks for world world_the_end\u001b[m\n",
            "\u001b[K[09:16:40 INFO]: Time elapsed: 3897 ms\u001b[m\n",
            "\u001b[K[09:16:40 INFO]: Running delayed init tasks\u001b[m\n",
            "\u001b[K[09:16:40 INFO]: Done (15.333s)! For help, type \"help\"\u001b[m\n",
            "\u001b[K[09:16:40 INFO]: Timings Reset\u001b[m\n",
            "\u001b[K[09:17:01 INFO]: Made Blue_Starry_Sky a server operator\u001b[m\n",
            ">....[09:17:14 INFO]: Stopping server\u001b[m\n",
            "[09:17:14 INFO]: Saving players\u001b[m\n",
            "[09:17:14 INFO]: Saving worlds\u001b[m\n",
            "[09:17:14 INFO]: Saving chunks for level 'ServerLevel[world]'/minecraft:overworld\u001b[m\n",
            "^C\n"
          ]
        }
      ]
    },
    {
      "cell_type": "markdown",
      "metadata": {
        "id": "n0rLoVvEgpxE"
      },
      "source": [
        "# **其他**"
      ]
    },
    {
      "cell_type": "markdown",
      "metadata": {
        "id": "FI61C5uvgsQK"
      },
      "source": [
        "Colab单线程，任务一次只能一个！！\n",
        "执行不了请执行下方命令（更新系统套件）："
      ]
    },
    {
      "cell_type": "code",
      "metadata": {
        "colab": {
          "base_uri": "https://localhost:8080/"
        },
        "id": "fegvx_7HhDOK",
        "outputId": "f9da1969-0684-4bdc-83ed-dae2a87fb8f9"
      },
      "source": [
        "!apt update -y\n",
        "!apt upgrade -y"
      ],
      "execution_count": null,
      "outputs": [
        {
          "output_type": "stream",
          "text": [
            "^C\n"
          ],
          "name": "stdout"
        }
      ]
    },
    {
      "cell_type": "markdown",
      "metadata": {
        "id": "ibrusuSSii1f"
      },
      "source": [
        "系统版本"
      ]
    },
    {
      "cell_type": "code",
      "metadata": {
        "colab": {
          "base_uri": "https://localhost:8080/"
        },
        "id": "AMxT_uKgiT0e",
        "outputId": "ab7f09b6-68a8-443a-d8a7-c2d02202e161"
      },
      "source": [
        "!head -n 1 /etc/issue"
      ],
      "execution_count": null,
      "outputs": [
        {
          "output_type": "stream",
          "name": "stdout",
          "text": [
            "Ubuntu 18.04.5 LTS \\n \\l\n"
          ]
        }
      ]
    },
    {
      "cell_type": "markdown",
      "metadata": {
        "id": "_J6ewRHbitiu"
      },
      "source": [
        "内核"
      ]
    },
    {
      "cell_type": "code",
      "metadata": {
        "colab": {
          "base_uri": "https://localhost:8080/"
        },
        "id": "u-P0ZYJCiut4",
        "outputId": "4f35713c-89a0-4b68-a863-b03e842f3e78"
      },
      "source": [
        "!uname -a"
      ],
      "execution_count": null,
      "outputs": [
        {
          "output_type": "stream",
          "text": [
            "Linux d5b230350244 4.19.112+ #1 SMP Thu Jul 23 08:00:38 PDT 2020 x86_64 x86_64 x86_64 GNU/Linux\n"
          ],
          "name": "stdout"
        }
      ]
    },
    {
      "cell_type": "markdown",
      "metadata": {
        "id": "ebpSXJgGi1TX"
      },
      "source": [
        "CPU信息"
      ]
    },
    {
      "cell_type": "code",
      "metadata": {
        "colab": {
          "base_uri": "https://localhost:8080/"
        },
        "id": "MmUNfTDfi3N9",
        "outputId": "441cf600-af7a-4714-80d7-fd9b13845fd2"
      },
      "source": [
        "!cat /proc/cpuinfo"
      ],
      "execution_count": null,
      "outputs": [
        {
          "output_type": "stream",
          "text": [
            "processor\t: 0\n",
            "vendor_id\t: GenuineIntel\n",
            "cpu family\t: 6\n",
            "model\t\t: 79\n",
            "model name\t: Intel(R) Xeon(R) CPU @ 2.20GHz\n",
            "stepping\t: 0\n",
            "microcode\t: 0x1\n",
            "cpu MHz\t\t: 2199.998\n",
            "cache size\t: 56320 KB\n",
            "physical id\t: 0\n",
            "siblings\t: 2\n",
            "core id\t\t: 0\n",
            "cpu cores\t: 1\n",
            "apicid\t\t: 0\n",
            "initial apicid\t: 0\n",
            "fpu\t\t: yes\n",
            "fpu_exception\t: yes\n",
            "cpuid level\t: 13\n",
            "wp\t\t: yes\n",
            "flags\t\t: fpu vme de pse tsc msr pae mce cx8 apic sep mtrr pge mca cmov pat pse36 clflush mmx fxsr sse sse2 ss ht syscall nx pdpe1gb rdtscp lm constant_tsc rep_good nopl xtopology nonstop_tsc cpuid tsc_known_freq pni pclmulqdq ssse3 fma cx16 pcid sse4_1 sse4_2 x2apic movbe popcnt aes xsave avx f16c rdrand hypervisor lahf_lm abm 3dnowprefetch invpcid_single ssbd ibrs ibpb stibp fsgsbase tsc_adjust bmi1 hle avx2 smep bmi2 erms invpcid rtm rdseed adx smap xsaveopt arat md_clear arch_capabilities\n",
            "bugs\t\t: cpu_meltdown spectre_v1 spectre_v2 spec_store_bypass l1tf mds swapgs taa\n",
            "bogomips\t: 4399.99\n",
            "clflush size\t: 64\n",
            "cache_alignment\t: 64\n",
            "address sizes\t: 46 bits physical, 48 bits virtual\n",
            "power management:\n",
            "\n",
            "processor\t: 1\n",
            "vendor_id\t: GenuineIntel\n",
            "cpu family\t: 6\n",
            "model\t\t: 79\n",
            "model name\t: Intel(R) Xeon(R) CPU @ 2.20GHz\n",
            "stepping\t: 0\n",
            "microcode\t: 0x1\n",
            "cpu MHz\t\t: 2199.998\n",
            "cache size\t: 56320 KB\n",
            "physical id\t: 0\n",
            "siblings\t: 2\n",
            "core id\t\t: 0\n",
            "cpu cores\t: 1\n",
            "apicid\t\t: 1\n",
            "initial apicid\t: 1\n",
            "fpu\t\t: yes\n",
            "fpu_exception\t: yes\n",
            "cpuid level\t: 13\n",
            "wp\t\t: yes\n",
            "flags\t\t: fpu vme de pse tsc msr pae mce cx8 apic sep mtrr pge mca cmov pat pse36 clflush mmx fxsr sse sse2 ss ht syscall nx pdpe1gb rdtscp lm constant_tsc rep_good nopl xtopology nonstop_tsc cpuid tsc_known_freq pni pclmulqdq ssse3 fma cx16 pcid sse4_1 sse4_2 x2apic movbe popcnt aes xsave avx f16c rdrand hypervisor lahf_lm abm 3dnowprefetch invpcid_single ssbd ibrs ibpb stibp fsgsbase tsc_adjust bmi1 hle avx2 smep bmi2 erms invpcid rtm rdseed adx smap xsaveopt arat md_clear arch_capabilities\n",
            "bugs\t\t: cpu_meltdown spectre_v1 spectre_v2 spec_store_bypass l1tf mds swapgs taa\n",
            "bogomips\t: 4399.99\n",
            "clflush size\t: 64\n",
            "cache_alignment\t: 64\n",
            "address sizes\t: 46 bits physical, 48 bits virtual\n",
            "power management:\n",
            "\n"
          ],
          "name": "stdout"
        }
      ]
    },
    {
      "cell_type": "markdown",
      "metadata": {
        "id": "OAJ-eDffjXVL"
      },
      "source": [
        "colab用户root，密码没有"
      ]
    },
    {
      "cell_type": "markdown",
      "metadata": {
        "id": "oWThEk4ijttx"
      },
      "source": [
        "磁盘空间及CPU"
      ]
    },
    {
      "cell_type": "code",
      "metadata": {
        "id": "QeQMJFFcjwLq"
      },
      "source": [
        "!free -m"
      ],
      "execution_count": null,
      "outputs": []
    },
    {
      "cell_type": "code",
      "metadata": {
        "id": "5AXu3mXcj7i2"
      },
      "source": [
        "!top"
      ],
      "execution_count": null,
      "outputs": []
    }
  ]
}